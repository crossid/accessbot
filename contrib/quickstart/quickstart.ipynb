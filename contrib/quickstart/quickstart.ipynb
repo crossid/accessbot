{
 "cells": [
  {
   "cell_type": "code",
   "execution_count": null,
   "metadata": {},
   "outputs": [],
   "source": [
    "%pip install requests\n",
    "%pip install pprint"
   ]
  },
  {
   "cell_type": "code",
   "execution_count": null,
   "metadata": {},
   "outputs": [],
   "source": [
    "BASE_URL = \"http://localhost:8000\"\n",
    "API_URL = f\"{BASE_URL}/api\"\n",
    "ACCESS_TOKEN=\"<token>\""
   ]
  },
  {
   "cell_type": "code",
   "execution_count": null,
   "metadata": {},
   "outputs": [],
   "source": [
    "headers = {\n",
    "    \"Authorization\": f\"Bearer {ACCESS_TOKEN}\"\n",
    "}"
   ]
  },
  {
   "cell_type": "code",
   "execution_count": null,
   "metadata": {},
   "outputs": [],
   "source": [
    "# create organization\n",
    "import requests\n",
    "from starlette import status\n",
    "\n",
    "org_id = \"\"\n",
    "cfg = {}\n",
    "\n",
    "payload = {\n",
    "    \"display_name\": \"ACME, inc.\",\n",
    "    \"config\": cfg\n",
    "}\n",
    "\n",
    "resp = requests.post(f\"{API_URL}/orgs\", headers=headers, json=payload)\n",
    "\n",
    "if resp.status_code != status.HTTP_201_CREATED:\n",
    "    raise SystemExit(resp.text)\n",
    "\n",
    "j = resp.json()\n",
    "print(\"org created: \", j)\n",
    "org_id = j['id']"
   ]
  },
  {
   "cell_type": "code",
   "execution_count": null,
   "metadata": {},
   "outputs": [],
   "source": [
    "# get organization\n",
    "import requests\n",
    "from starlette import status\n",
    "resp = requests.get(f\"{API_URL}/orgs/1234\", headers=headers)\n",
    "if resp.status_code != status.HTTP_404_NOT_FOUND:\n",
    "    raise SystemExit(f\"expected code 404 but got {resp.status_code}\")\n",
    "resp = requests.get(f\"{API_URL}/orgs/{org_id}\", headers=headers)\n",
    "if resp.status_code != status.HTTP_200_OK:\n",
    "    raise SystemExit(resp.text)\n",
    "print(\"org retrieved: \", resp.json())"
   ]
  },
  {
   "cell_type": "code",
   "execution_count": null,
   "metadata": {},
   "outputs": [],
   "source": [
    "# add content to org' vectorstore\n",
    "import requests\n",
    "\n",
    "try:\n",
    "  content = \"\"\"**user:erezsh**: Hi, I'm trying to run jobs in bigquery and I'm getting 403 error\n",
    "          **IT**: What's the api you're trying to use?\n",
    "          **user:erezsh**: `POST https://bigquery.googleapis.com/upload/bigquery/v2/projects/my_project_id/jobs`\n",
    "          **IT**: Looks like you need an iam role. I'll give you the role **gcp/roles/bigquery.admin**. You can try again now.\n",
    "          **user:erezsh**: That worked, thanks.\"\"\"\n",
    "  \n",
    "  data = {\n",
    "    \"docs\": \n",
    "      [\n",
    "        {\n",
    "           \"content\": content,\n",
    "           \"metadata\": {\"foo\": \"bar\"},\n",
    "           \"id\": \"1234\",\n",
    "        }\n",
    "      ]\n",
    "  }\n",
    "\n",
    "  response = requests.post(f\"{API_URL}/content\", headers=headers, json=data)\n",
    "  if response.status_code >= 200 and response.status_code <= 399:\n",
    "      print(\"content successfully added: \", response.text)\n",
    "  else:\n",
    "      print(f\"failed to add content with code: {response.status_code} || {response.text}\")\n",
    "\n",
    "except requests.RequestException as e:\n",
    "  print(f\"An error occurred: {e}\")"
   ]
  },
  {
   "cell_type": "code",
   "execution_count": null,
   "metadata": {},
   "outputs": [],
   "source": [
    "# remove data\n",
    "import requests\n",
    "\n",
    "try:\n",
    "  data = {\n",
    "     \"ids\": [\"4\"]\n",
    "  }\n",
    "\n",
    "  response = requests.post(f\"{API_URL}/content/.delete\", headers=headers, json=data)\n",
    "  if response.status_code >= 200 and response.status_code <= 399:\n",
    "      print(\"content successfully removed: \", response.text)\n",
    "  else:\n",
    "      print(f\"failed to add content with code: {response.status_code} || {response.text}\")\n",
    "\n",
    "except requests.RequestException as e:\n",
    "  print(f\"An error occurred: {e}\")"
   ]
  },
  {
   "cell_type": "code",
   "execution_count": null,
   "metadata": {},
   "outputs": [],
   "source": [
    "# create conversation\n",
    "import requests\n",
    "from starlette import status\n",
    "\n",
    "\n",
    "payload = {\n",
    "    \n",
    "}\n",
    "\n",
    "resp = requests.post(f\"{API_URL}/conversations\", headers=headers, json=payload)\n",
    "\n",
    "if resp.status_code != status.HTTP_201_CREATED:\n",
    "    raise SystemExit(resp.text)\n",
    "\n",
    "j = resp.json()\n",
    "print(\"conversation created: \", j)\n",
    "conversation_id = j['id']"
   ]
  },
  {
   "cell_type": "code",
   "execution_count": null,
   "metadata": {},
   "outputs": [],
   "source": [
    "# send a message to conversation\n",
    "import requests\n",
    "from sseclient import SSEClient\n",
    "\n",
    "def converse(input: str):\n",
    "    data = {\n",
    "        \"input\": input\n",
    "    }\n",
    "    _headers = headers.copy()\n",
    "    _headers[\"Accept\"] = \"text/event-stream\"\n",
    "    with requests.post(\n",
    "        url=f\"{API_URL}/conversations/{conversation_id}/conversation/stream\",\n",
    "        json=data,\n",
    "        headers=_headers,\n",
    "        stream=True\n",
    "    ) as r:\n",
    "        if r.status_code != 200:\n",
    "            raise SystemExit(f\"expected status 200 but got {r.status_code}: {r.text}\")\n",
    "\n",
    "        client = SSEClient(r)\n",
    "        buf = []\n",
    "        for event in client.events():\n",
    "            c = event.data\n",
    "            buf.append(c)\n",
    "            print(c, end='', flush=True)\n",
    "        print(\"\\n--\")\n",
    "\n",
    "try:\n",
    "    input = \"I need access for bigquery app\"\n",
    "    converse(input)\n",
    "\n",
    "    # input = \"I need to run jobs\"\n",
    "    # converse(input)\n",
    "    \n",
    "except requests.RequestException as e:\n",
    "    print(f\"error: {e}\")"
   ]
  },
  {
   "cell_type": "code",
   "execution_count": null,
   "metadata": {},
   "outputs": [],
   "source": [
    "# get conversation\n",
    "import requests\n",
    "from starlette import status\n",
    "from pprint import pprint\n",
    "    \n",
    "resp = requests.get(f\"{API_URL}/requests/404\", headers=headers)\n",
    "if resp.status_code != status.HTTP_404_NOT_FOUND:\n",
    "    raise SystemExit(f\"expected code 404 but got {resp.status_code}\")\n",
    "    \n",
    "resp = requests.get(f\"{API_URL}/conversations/{conversation_id}?links=messages\", headers=headers)\n",
    "if resp.status_code != status.HTTP_200_OK:\n",
    "    raise SystemExit(resp.text)\n",
    "pprint(resp.json())\n"
   ]
  }
 ],
 "metadata": {
  "kernelspec": {
   "display_name": "Python 3",
   "language": "python",
   "name": "python3"
  },
  "language_info": {
   "codemirror_mode": {
    "name": "ipython",
    "version": 3
   },
   "file_extension": ".py",
   "mimetype": "text/x-python",
   "name": "python",
   "nbconvert_exporter": "python",
   "pygments_lexer": "ipython3",
   "version": "3.11.7"
  }
 },
 "nbformat": 4,
 "nbformat_minor": 2
}
